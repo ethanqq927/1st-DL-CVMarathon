{
 "cells": [
  {
   "cell_type": "markdown",
   "metadata": {},
   "source": [
    "# 動態網頁爬蟲 - 使用 Selenium\n",
    "\n",
    "* 了解 Selenium 用於動態網頁爬蟲的原理\n",
    "* 能夠使用 Selenium 撰寫動態網頁爬蟲"
   ]
  },
  {
   "cell_type": "markdown",
   "metadata": {},
   "source": [
    "## 作業目標\n",
    "\n",
    "* 1. 根據範例使用 selenuim 取出 Hahow 網站中所有課程的資料，並用一個適合的資料結構儲存（Hint: 將所有資料存在一個變數當中取出）\n",
    "* 2. 剛剛的做法只能取出第一頁，試著取出所有頁面的資料。\n",
    "\n"
   ]
  },
  {
   "cell_type": "markdown",
   "metadata": {},
   "source": [
    "### 1. 根據範例使用 selenuim 取出 Hahow 網站中所有課程的資料，並用一個適合的資料結構儲存（Hint: 將所有資料存在一個變數當中取出）"
   ]
  },
  {
   "cell_type": "code",
   "execution_count": 28,
   "metadata": {},
   "outputs": [],
   "source": [
    "from selenium import webdriver\n",
    "from selenium.webdriver.support.ui import Select\n",
    "from bs4 import BeautifulSoup\n",
    "\n",
    "browser = webdriver.Chrome(executable_path='./chromedriver')\n",
    "browser.get(\"https://hahow.in/courses\")"
   ]
  },
  {
   "cell_type": "code",
   "execution_count": 29,
   "metadata": {},
   "outputs": [],
   "source": [
    "# 取得資料（等瀏覽器資料出現後才執行）\n",
    "html_source = browser.page_source\n",
    "html_source\n",
    "\n",
    "# 取得資料\n",
    "html_source = browser.page_source\n",
    "soup = BeautifulSoup(html_source, 'lxml')\n"
   ]
  },
  {
   "cell_type": "code",
   "execution_count": 30,
   "metadata": {},
   "outputs": [
    {
     "name": "stdout",
     "output_type": "stream",
     "text": [
      "['顧客分類大師：Python x RFM 會員經營新觀點', '翻轉文字：給孩子好玩的創意寫作課！', '大人的蠟筆畫：活用油畫知識，寫實生活微光', '機器學習攻略：實戰心法到求職技巧', '法式甜點在地魂製作攻略－日日在家菓實日', '林長揚職場簡報術：一次搞定所有工作簡報！', '概念式時尚插畫｜我的小小時裝週', '羅寶鴻的安定教養課：12 個對話練習與心法', '七日減醣計畫「一週持續執行！」邊吃邊享瘦', '閱讀攝影的眼神 - 啟動你的影像理解力', '手機 App 開發入門：App Inventor 2 實作', '全民防疫通識課：陳建仁副總統來開講', '省錢攝影術：零基礎拍好美食＆商品！', 'Linux 我來教: CentOS/ RHEL 8 新世代雲端', '口譯員浩爾的打獵式聆聽＆資訊處理術', '資料變決策！從零上手 Tableau 大數據視覺化', '互動藝術程式創作入門 Creative Coding ', '人生管理學：把自己當成公司經營', '薩克斯風 - 13 堂基本功吹出專輯的美聲', '用實際案例學設計-美編的 InDesign 排版課', '動盪時代的資產配置：王伯達人生財務規劃學', '手繪轉電繪，我選 Procreate！', '氣球達人不藏私！宋俊霖的塞球雕塑造型課', '0-2 歲寶寶父母必修課 - 專業治療師開課囉！', '顧客分類大師：Python x RFM 會員經營新觀點', '翻轉文字：給孩子好玩的創意寫作課！', '大人的蠟筆畫：活用油畫知識，寫實生活微光', '機器學習攻略：實戰心法到求職技巧', '法式甜點在地魂製作攻略－日日在家菓實日', '林長揚職場簡報術：一次搞定所有工作簡報！', '概念式時尚插畫｜我的小小時裝週', '羅寶鴻的安定教養課：12 個對話練習與心法', '七日減醣計畫「一週持續執行！」邊吃邊享瘦', '閱讀攝影的眼神 - 啟動你的影像理解力', '手機 App 開發入門：App Inventor 2 實作', '全民防疫通識課：陳建仁副總統來開講', '省錢攝影術：零基礎拍好美食＆商品！', 'Linux 我來教: CentOS/ RHEL 8 新世代雲端', '口譯員浩爾的打獵式聆聽＆資訊處理術', '資料變決策！從零上手 Tableau 大數據視覺化', '互動藝術程式創作入門 Creative Coding ', '人生管理學：把自己當成公司經營', '薩克斯風 - 13 堂基本功吹出專輯的美聲', '用實際案例學設計-美編的 InDesign 排版課', '動盪時代的資產配置：王伯達人生財務規劃學', '手繪轉電繪，我選 Procreate！', '氣球達人不藏私！宋俊霖的塞球雕塑造型課', '0-2 歲寶寶父母必修課 - 專業治療師開課囉！']\n"
     ]
    }
   ],
   "source": [
    "course = []\n",
    "    \n",
    "'''\n",
    "Your Code\n",
    "'''\n",
    "\n",
    "print(courses)"
   ]
  },
  {
   "cell_type": "code",
   "execution_count": 31,
   "metadata": {},
   "outputs": [],
   "source": [
    "browser.close()"
   ]
  },
  {
   "cell_type": "markdown",
   "metadata": {},
   "source": [
    "### 2. 剛剛的做法只能取出第一頁，試著取出所有頁面的資料。"
   ]
  },
  {
   "cell_type": "code",
   "execution_count": 1,
   "metadata": {},
   "outputs": [],
   "source": [
    "from selenium import webdriver\n",
    "from selenium.webdriver.support.ui import Select\n",
    "from bs4 import BeautifulSoup\n",
    "import time\n",
    "import pandas as pd"
   ]
  },
  {
   "cell_type": "code",
   "execution_count": 43,
   "metadata": {},
   "outputs": [],
   "source": [
    "# 1. 先取出全部有幾頁\n",
    "\n",
    "def get_last_page():\n",
    "    html_source = browser.page_source\n",
    "    soup = BeautifulSoup(html_source, 'lxml')\n",
    "    last_page = soup.find(class_ =\"rc-pagination gbga9a-0 jYLVph\").find_all(\"li\")[-2][\"title\"]\n",
    "    print(f\"最後一頁是：第{last_page}頁\")\n",
    "\n",
    "    return int(last_page)"
   ]
  },
  {
   "cell_type": "code",
   "execution_count": 48,
   "metadata": {},
   "outputs": [
    {
     "name": "stderr",
     "output_type": "stream",
     "text": [
      "<>:10: SyntaxWarning: \"is not\" with a literal. Did you mean \"!=\"?\n",
      "<>:10: SyntaxWarning: \"is not\" with a literal. Did you mean \"!=\"?\n",
      "<ipython-input-48-c3259ffe0886>:10: SyntaxWarning: \"is not\" with a literal. Did you mean \"!=\"?\n",
      "  if s.find(\"h4\").text is not \"\":\n"
     ]
    }
   ],
   "source": [
    "# 2. 每頁都取出資料放入 courses\n",
    "\n",
    "def get_course_data(page_number):\n",
    "    time.sleep(3)\n",
    "    html_source = browser.page_source\n",
    "    soup = BeautifulSoup(html_source, 'lxml')\n",
    "    current_page_courses_elem = soup.find(class_=\"briefs-container brief-col-lg-4 brief-col-md-3 brief-col-sm-2 brief-col-xs-1\")\n",
    "\n",
    "    for s in current_page_courses_elem.find_all(class_=\"sc-10r5mg2-0 fVNHJD hh-course-brief relative block\"):\n",
    "        if s.find(\"h4\").text is not \"\":\n",
    "            title = s.find(\"h4\").text\n",
    "            course_description  = s.find(class_=\"meta-description\").text.strip()\n",
    "            course_link = s.find(class_=\"cover-wrap relative\").find(\"a\")[\"href\"]\n",
    "            courses_dict[\"頁數\"].append(f\"第{page_number}頁\")\n",
    "            courses_dict[\"課程名稱\"].append(title)\n",
    "            courses_dict[\"課程敘述\"].append(course_description)\n",
    "            courses_dict[\"課程連結\"].append(\"https://hahow.in/\"+course_link)\n",
    "\n",
    "            #print(title)\n",
    "            #print(course_description)\n",
    "            #print(course_link+\"\\n\")\n",
    "\n",
    "    if soup.find(class_=\"rc-pagination-next\")[\"aria-disabled\"]==\"true\":\n",
    "        return \"is_last_page\"\n"
   ]
  },
  {
   "cell_type": "code",
   "execution_count": 44,
   "outputs": [],
   "source": [
    "courses_dict={\"頁數\":[],\"課程名稱\":[],\"課程敘述\":[],\"課程連結\":[]}"
   ],
   "metadata": {
    "collapsed": false,
    "pycharm": {
     "name": "#%%\n"
    }
   }
  },
  {
   "cell_type": "code",
   "execution_count": null,
   "outputs": [],
   "source": [
    "browser = webdriver.Chrome(executable_path='./chromedriver')\n",
    "browser.get(\"https://hahow.in/courses\")\n"
   ],
   "metadata": {
    "collapsed": false,
    "pycharm": {
     "name": "#%%\n"
    }
   }
  },
  {
   "cell_type": "code",
   "execution_count": 45,
   "outputs": [
    {
     "name": "stdout",
     "output_type": "stream",
     "text": [
      "最後一頁是：第21頁\n",
      "開始抓取第一頁資料!\n",
      "第一頁抓取成功，總共有24課程：\n"
     ]
    }
   ],
   "source": [
    "#取得第一頁資料\n",
    "last_page_number = get_last_page()\n",
    "print(f\"開始抓取第一頁資料!\")\n",
    "get_course_data(1)\n",
    "print(\"第一頁抓取成功，總共有{}課程：\".format(len(courses_dict[\"課程名稱\"])))"
   ],
   "metadata": {
    "collapsed": false,
    "pycharm": {
     "name": "#%%\n"
    }
   }
  },
  {
   "cell_type": "code",
   "execution_count": 46,
   "outputs": [
    {
     "name": "stdout",
     "output_type": "stream",
     "text": [
      "開始點入第2個頁面!\n",
      "第2個頁面抓取成功，目前總共蒐集到48個課程：\n",
      "開始點入第3個頁面!\n",
      "第3個頁面抓取成功，目前總共蒐集到71個課程：\n",
      "開始點入第4個頁面!\n",
      "第4個頁面抓取成功，目前總共蒐集到95個課程：\n",
      "開始點入第5個頁面!\n",
      "第5個頁面抓取成功，目前總共蒐集到119個課程：\n",
      "開始點入第6個頁面!\n",
      "第6個頁面抓取成功，目前總共蒐集到143個課程：\n",
      "開始點入第7個頁面!\n",
      "第7個頁面抓取成功，目前總共蒐集到167個課程：\n",
      "開始點入第8個頁面!\n",
      "第8個頁面抓取成功，目前總共蒐集到191個課程：\n",
      "開始點入第9個頁面!\n",
      "第9個頁面抓取成功，目前總共蒐集到215個課程：\n",
      "開始點入第10個頁面!\n",
      "第10個頁面抓取成功，目前總共蒐集到239個課程：\n",
      "開始點入第11個頁面!\n",
      "第11個頁面抓取成功，目前總共蒐集到263個課程：\n",
      "開始點入第12個頁面!\n",
      "第12個頁面抓取成功，目前總共蒐集到287個課程：\n",
      "開始點入第13個頁面!\n",
      "第13個頁面抓取成功，目前總共蒐集到311個課程：\n",
      "開始點入第14個頁面!\n",
      "第14個頁面抓取成功，目前總共蒐集到335個課程：\n",
      "開始點入第15個頁面!\n",
      "第15個頁面抓取成功，目前總共蒐集到359個課程：\n",
      "開始點入第16個頁面!\n",
      "第16個頁面抓取成功，目前總共蒐集到383個課程：\n",
      "開始點入第17個頁面!\n",
      "第17個頁面抓取成功，目前總共蒐集到407個課程：\n",
      "開始點入第18個頁面!\n",
      "第18個頁面抓取成功，目前總共蒐集到431個課程：\n",
      "開始點入第19個頁面!\n",
      "第19個頁面抓取成功，目前總共蒐集到455個課程：\n",
      "開始點入第20個頁面!\n",
      "第20個頁面抓取成功，目前總共蒐集到479個課程：\n",
      "開始點入第21個頁面!\n",
      "第21個頁面抓取成功，目前總共蒐集到495個課程：\n",
      "已經處理完最後一頁（第21頁），沒有下一頁了....\n",
      "總共有495個課程：\n"
     ]
    }
   ],
   "source": [
    "#取得第二頁到最後一頁資料\n",
    "for i in range(2,last_page_number+1):\n",
    "    elem = browser.find_element_by_css_selector(\".rc-pagination-next\")\n",
    "    elem.click()\n",
    "    print(f\"開始點入第{i}個頁面!\")\n",
    "    check = get_course_data(i)\n",
    "    print(\"第{}個頁面抓取成功，目前總共蒐集到{}個課程：\".format(i,len(courses_dict[\"課程名稱\"])))\n",
    "\n",
    "    if check ==\"is_last_page\":\n",
    "        print(f\"已經處理完最後一頁（第{i}頁），沒有下一頁了....\")\n",
    "        break\n",
    "\n",
    "print(\"總共有{}個課程：\".format(len(courses_dict[\"課程名稱\"])))\n",
    "courses_df = pd.DataFrame(courses_dict)\n",
    "\n"
   ],
   "metadata": {
    "collapsed": false,
    "pycharm": {
     "name": "#%%\n"
    }
   }
  },
  {
   "cell_type": "code",
   "execution_count": 47,
   "metadata": {},
   "outputs": [
    {
     "data": {
      "text/plain": "     頁數                  課程名稱  \\\n0     1   用攝影打造第二人生｜讓熱情全職為你工作   \n1     1        時尚設計：基本知識與設計流程   \n2     1  6五3的書法設計課：跳脫字帖的書寫自由式   \n3     1    打電動也能賺錢：如何成為遊戲實況主？   \n4     1  《當我們扯在一起》太陽馬戲團老師的扯鈴課   \n..   ..                   ...   \n490  21     教你用免費軟體 混音組曲當 DJ！   \n491  21             不一樣的西洋美術史   \n492  21        Line 的貼圖自己動手做！   \n493  21               數位拼貼的手感   \n494  21         幾何圖形分割 X 色塊組合   \n\n                                                  課程敘述  \\\n0    在影像爆炸的時代下，動態影像工作的需求日益增長，從實體到網路的店家，大型與中小企業，甚至是網...   \n1    透過一堂課幫你建立「時尚與服裝設計」領域的入門概念，從流行到產業，從靈感到產品，學習專業知識...   \n2        這堂與眾不同的書法課，將打破大眾對書法課的想像，透過簡單的線條，帶你跨越書法的第一道門檻。   \n3    從最基礎的遊戲實況概念出發，一路幫助你創立頻道、實戰開始直播、並且穩定的經營個人頻道直至開始...   \n4    世界頂尖扯鈴玩家【趙志翰】邀請大家體會扯鈴的樂趣！這堂課不僅讓你輕鬆學會至尊精選基本功，訓練...   \n..                                                 ...   \n490  DJ 混音課程，教你用 Virtual DJ 軟體，創作出你的 DJ 混音組曲。從認識、解構...   \n491  課程內容會依照歷史時間順序，並且在每一個時期挑出二到三個代表性的重要藝術家或是作品，帶大家如...   \n492  此次課程希望可以教大家一些簡單的技巧，讓大家可以快速的從草圖繪製，到簡易插圖繪製一 次上手，...   \n493  拼貼是視覺設計的表現方法之一，可應用在海報、書籍、喜帖、筆記本等各式平面設計。課堂中，會教你...   \n494  這是一個有趣的小技巧，主要利用illustrator裡面的\"分割“這個功能，我已經想不起來是...   \n\n                                                  課程連結  \n0    https://hahow.in//courses/5f0bb4931d34990fe3f8...  \n1    https://hahow.in//courses/5ea3eb91efb9de893af3...  \n2    https://hahow.in//courses/5ef05715775deaab32e6...  \n3    https://hahow.in//courses/5ecc803260b0169dc788...  \n4    https://hahow.in//courses/5eb16929dd5b57f1c665...  \n..                                                 ...  \n490  https://hahow.in//courses/551171a938239d100057...  \n491  https://hahow.in//courses/54f1268f4ec3c809002e...  \n492  https://hahow.in//courses/54d7148a2246e60a009e...  \n493  https://hahow.in//courses/54d5d9952246e60a009e...  \n494  https://hahow.in//courses/54d5a117065a7e0e0072...  \n\n[495 rows x 4 columns]",
      "text/html": "<div>\n<style scoped>\n    .dataframe tbody tr th:only-of-type {\n        vertical-align: middle;\n    }\n\n    .dataframe tbody tr th {\n        vertical-align: top;\n    }\n\n    .dataframe thead th {\n        text-align: right;\n    }\n</style>\n<table border=\"1\" class=\"dataframe\">\n  <thead>\n    <tr style=\"text-align: right;\">\n      <th></th>\n      <th>頁數</th>\n      <th>課程名稱</th>\n      <th>課程敘述</th>\n      <th>課程連結</th>\n    </tr>\n  </thead>\n  <tbody>\n    <tr>\n      <th>0</th>\n      <td>1</td>\n      <td>用攝影打造第二人生｜讓熱情全職為你工作</td>\n      <td>在影像爆炸的時代下，動態影像工作的需求日益增長，從實體到網路的店家，大型與中小企業，甚至是網...</td>\n      <td>https://hahow.in//courses/5f0bb4931d34990fe3f8...</td>\n    </tr>\n    <tr>\n      <th>1</th>\n      <td>1</td>\n      <td>時尚設計：基本知識與設計流程</td>\n      <td>透過一堂課幫你建立「時尚與服裝設計」領域的入門概念，從流行到產業，從靈感到產品，學習專業知識...</td>\n      <td>https://hahow.in//courses/5ea3eb91efb9de893af3...</td>\n    </tr>\n    <tr>\n      <th>2</th>\n      <td>1</td>\n      <td>6五3的書法設計課：跳脫字帖的書寫自由式</td>\n      <td>這堂與眾不同的書法課，將打破大眾對書法課的想像，透過簡單的線條，帶你跨越書法的第一道門檻。</td>\n      <td>https://hahow.in//courses/5ef05715775deaab32e6...</td>\n    </tr>\n    <tr>\n      <th>3</th>\n      <td>1</td>\n      <td>打電動也能賺錢：如何成為遊戲實況主？</td>\n      <td>從最基礎的遊戲實況概念出發，一路幫助你創立頻道、實戰開始直播、並且穩定的經營個人頻道直至開始...</td>\n      <td>https://hahow.in//courses/5ecc803260b0169dc788...</td>\n    </tr>\n    <tr>\n      <th>4</th>\n      <td>1</td>\n      <td>《當我們扯在一起》太陽馬戲團老師的扯鈴課</td>\n      <td>世界頂尖扯鈴玩家【趙志翰】邀請大家體會扯鈴的樂趣！這堂課不僅讓你輕鬆學會至尊精選基本功，訓練...</td>\n      <td>https://hahow.in//courses/5eb16929dd5b57f1c665...</td>\n    </tr>\n    <tr>\n      <th>...</th>\n      <td>...</td>\n      <td>...</td>\n      <td>...</td>\n      <td>...</td>\n    </tr>\n    <tr>\n      <th>490</th>\n      <td>21</td>\n      <td>教你用免費軟體 混音組曲當 DJ！</td>\n      <td>DJ 混音課程，教你用 Virtual DJ 軟體，創作出你的 DJ 混音組曲。從認識、解構...</td>\n      <td>https://hahow.in//courses/551171a938239d100057...</td>\n    </tr>\n    <tr>\n      <th>491</th>\n      <td>21</td>\n      <td>不一樣的西洋美術史</td>\n      <td>課程內容會依照歷史時間順序，並且在每一個時期挑出二到三個代表性的重要藝術家或是作品，帶大家如...</td>\n      <td>https://hahow.in//courses/54f1268f4ec3c809002e...</td>\n    </tr>\n    <tr>\n      <th>492</th>\n      <td>21</td>\n      <td>Line 的貼圖自己動手做！</td>\n      <td>此次課程希望可以教大家一些簡單的技巧，讓大家可以快速的從草圖繪製，到簡易插圖繪製一 次上手，...</td>\n      <td>https://hahow.in//courses/54d7148a2246e60a009e...</td>\n    </tr>\n    <tr>\n      <th>493</th>\n      <td>21</td>\n      <td>數位拼貼的手感</td>\n      <td>拼貼是視覺設計的表現方法之一，可應用在海報、書籍、喜帖、筆記本等各式平面設計。課堂中，會教你...</td>\n      <td>https://hahow.in//courses/54d5d9952246e60a009e...</td>\n    </tr>\n    <tr>\n      <th>494</th>\n      <td>21</td>\n      <td>幾何圖形分割 X 色塊組合</td>\n      <td>這是一個有趣的小技巧，主要利用illustrator裡面的\"分割“這個功能，我已經想不起來是...</td>\n      <td>https://hahow.in//courses/54d5a117065a7e0e0072...</td>\n    </tr>\n  </tbody>\n</table>\n<p>495 rows × 4 columns</p>\n</div>"
     },
     "execution_count": 47,
     "metadata": {},
     "output_type": "execute_result"
    }
   ],
   "source": [
    "# 3. done!\n",
    "\n",
    "courses_df"
   ]
  },
  {
   "cell_type": "code",
   "execution_count": null,
   "metadata": {},
   "outputs": [],
   "source": []
  }
 ],
 "metadata": {
  "kernelspec": {
   "display_name": "Python 3",
   "language": "python",
   "name": "python3"
  },
  "language_info": {
   "codemirror_mode": {
    "name": "ipython",
    "version": 3
   },
   "file_extension": ".py",
   "mimetype": "text/x-python",
   "name": "python",
   "nbconvert_exporter": "python",
   "pygments_lexer": "ipython3",
   "version": "3.6.5"
  }
 },
 "nbformat": 4,
 "nbformat_minor": 2
}