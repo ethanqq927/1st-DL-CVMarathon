{
 "cells": [
  {
   "cell_type": "markdown",
   "metadata": {},
   "source": [
    "# [作業目標]\n",
    "- 仿造範例的 One Hot Encoding, 將指定的資料進行編碼"
   ]
  },
  {
   "cell_type": "markdown",
   "metadata": {},
   "source": [
    "# [作業重點]\n",
    "- 將 sub_train 進行 One Hot Encoding 編碼 (In[4], Out[4])"
   ]
  },
  {
   "cell_type": "code",
   "execution_count": 1,
   "metadata": {
    "colab": {},
    "colab_type": "code",
    "collapsed": true,
    "id": "lh9gyloHVblR"
   },
   "outputs": [],
   "source": [
    "import os\n",
    "import numpy as np\n",
    "import pandas as pd"
   ]
  },
  {
   "cell_type": "code",
   "execution_count": 20,
   "metadata": {
    "colab": {},
    "colab_type": "code",
    "collapsed": true,
    "id": "z4iLB9cKVblV"
   },
   "outputs": [],
   "source": [
    "# 設定 data_path, 並讀取 app_train\n",
    "dir_data = '../data/'\n",
    "f_app_train = os.path.join(dir_data, 'application_train.csv')\n",
    "#app_train = pd.read_csv(f_app_train,nrows=100)\n",
    "app_train = pd.read_csv(f_app_train)"
   ]
  },
  {
   "cell_type": "markdown",
   "metadata": {
    "colab": {},
    "colab_type": "code",
    "collapsed": true,
    "id": "d5IeEcPVVblq"
   },
   "source": [
    "## 作業\n",
    "將下列部分資料片段 sub_train 使用 One Hot encoding, 並觀察轉換前後的欄位數量 (使用 shape) 與欄位名稱 (使用 head) 變化"
   ]
  },
  {
   "cell_type": "code",
   "execution_count": 23,
   "metadata": {
    "pycharm": {
     "name": "#%%\n"
    }
   },
   "outputs": [
    {
     "name": "stdout",
     "output_type": "stream",
     "text": [
      "(307511, 122)\n",
      "   FRIDAY  MONDAY  SATURDAY  SUNDAY  THURSDAY  TUESDAY  WEDNESDAY\n",
      "0       0       0         0       0         0        0          1\n",
      "1       0       1         0       0         0        0          0\n",
      "2       0       1         0       0         0        0          0\n",
      "3       0       0         0       0         0        0          1\n",
      "4       0       0         0       0         1        0          0\n",
      "(307511, 129)\n"
     ]
    },
    {
     "data": {
      "text/plain": "'\\n多4個欄位了\\n'"
     },
     "execution_count": 23,
     "metadata": {},
     "output_type": "execute_result"
    }
   ],
   "source": [
    "sub_train = pd.DataFrame(app_train['WEEKDAY_APPR_PROCESS_START'])\n",
    "print(app_train.shape)\n",
    "#sub_train.head()\n",
    "\n",
    "#使用pd.get_dummy(df[\"欄位\"]) 來獲得Hot_Encoding\n",
    "hot_encoding_df = pd.get_dummies(app_train[\"WEEKDAY_APPR_PROCESS_START\"])\n",
    "print(hot_encoding_df.head())\n",
    "result_df = pd.concat([app_train, hot_encoding_df],axis=1)\n",
    "print(result_df.shape)\n",
    "\n",
    "\"\"\"\n",
    "result_df多7個欄位了\n",
    "\"\"\""
   ]
  }
 ],
 "metadata": {
  "colab": {
   "name": "Day_004_column_data_type.ipynb",
   "provenance": [],
   "version": "0.3.2"
  },
  "kernelspec": {
   "display_name": "Python 3",
   "language": "python",
   "name": "python3"
  },
  "language_info": {
   "codemirror_mode": {
    "name": "ipython",
    "version": 3
   },
   "file_extension": ".py",
   "mimetype": "text/x-python",
   "name": "python",
   "nbconvert_exporter": "python",
   "pygments_lexer": "ipython3",
   "version": "3.6.1"
  }
 },
 "nbformat": 4,
 "nbformat_minor": 1
}