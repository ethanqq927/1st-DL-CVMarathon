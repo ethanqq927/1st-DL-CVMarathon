{
 "cells": [
  {
   "cell_type": "markdown",
   "metadata": {},
   "source": [
    "# 反爬：登入授權模擬\n",
    "\n",
    "* 了解「登入權限機制」的反爬蟲機制\n",
    "* 「登入權限機制」反爬蟲的因應策略"
   ]
  },
  {
   "cell_type": "markdown",
   "metadata": {},
   "source": [
    "## 作業目標\n",
    "\n",
    "* 找一個需要登入的網站試試看，並說明思考流程\n",
    "（如果不知道要用哪個網站的話，可以試試看 https://github.com/new 網址，未登入時會被導向登入頁）\n",
    "\n"
   ]
  },
  {
   "cell_type": "code",
   "execution_count": 24,
   "metadata": {},
   "outputs": [
    {
     "name": "stdout",
     "output_type": "stream",
     "text": [
      "353932\n",
      "NetflixBrowseHomeTV ShowsMoviesLatestMy ListKIDS9Netflix Home13+#1 in Taiwan Today She upends his world by asking him to live a little. He upends hers by showing he won't run from her like everyone else. PlayMore InfoTV ShowsExplore AllCursedYu Yu Hakusho: Ghost FilesIt's Okay to Not Be OkaySnowpiercerThe Big Bang TheoryWarrior NunDarkLuciferContinue Watching for EthanBrooklyn Nine-NineHow I Met Your MotherInfernoThe Book of EliMINDHUNTERSherlockMarriage StoryThe Cloverfield ParadoxTrending NowDarkLuciferUnsolved MysteriesBG Personal BodyguardThe Good PlaceEurovision Song Contest: The Story of Fire SagaThe Umbrella AcademyJapan Sinks: 2020 Audio and SubtitlesAudio DescriptionHelp CenterGift CardsMedia CenterInvestor RelationsJobsTerms of UsePrivacyLegal NoticesCookie PreferencesCorporate InformationContact UsService Code© 1997-2020 Netflix, Inc.‎{i-07f5a7c6317dec4d9}                                        \n",
      "\n",
      "\n",
      "\n",
      "\n",
      "\n",
      "\n",
      "\n",
      "\n",
      "\n",
      "\n",
      "\n",
      "\n",
      "\n",
      "\n",
      "\n",
      "\n",
      "\n",
      "\n",
      "\n",
      "\n",
      "\n",
      "\n",
      "\n",
      "\n",
      "\n",
      "\n",
      "\n",
      "\n",
      "\n",
      "\n",
      "\n",
      "\n",
      "\n",
      "\n",
      "\n",
      "\n",
      "\n",
      "\n",
      "\n",
      "\n",
      "\n",
      "\n",
      "\n",
      "\n",
      "\n",
      "\n",
      "\n",
      "\n",
      "\n",
      "\n",
      "\n",
      "\n",
      "\n",
      "\n",
      "\n",
      "\n",
      "\n",
      "\n",
      "\n",
      "\n",
      "\n",
      "\n",
      "\n",
      "\n",
      "\n",
      "\n",
      "\n",
      "\n",
      "\n",
      "\n",
      "\n",
      "\n",
      "\n",
      "\n",
      "\n",
      "\n",
      "\n",
      "\n",
      "\n",
      "\n",
      "\n",
      "\n",
      "\n",
      "\n",
      "\n",
      "\n",
      "\n",
      "\n",
      "\n",
      "\n",
      "\n",
      "\n",
      "\n",
      "\n",
      "\n",
      "\n",
      "Audio Description availableAudio Description is available for some episodesstart with Audio Description turned on\n"
     ]
    }
   ],
   "source": [
    "import requests\n",
    "from bs4 import BeautifulSoup\n",
    "\n",
    "url = \"https://www.netflix.com/tw-en//\"\n",
    "\n",
    "headers={\n",
    "    'user-agent': 'Mozilla/5.0 (Macintosh; Intel Mac OS X 10_15_5) AppleWebKit/537.36 (KHTML, like Gecko) Chrome/84.0.4147.89 Safari/537.36 Edg/84.0.522.40',\n",
    "}\n",
    "\n",
    "#依照瀏覽器實際登入後，開發者工具Applications介面底下新出現的cookies內容，填入後即可成功連結抓取\n",
    "#https://imgur.com/a/tlaH3Fh\n",
    "cookies={\n",
    "    'cL':'',\n",
    "    'profilesNewSession':'',\n",
    "    'NetflixId':'',\n",
    "    'nfvdid':'',\n",
    "    'flwssn':'',\n",
    "    'netflix-sans-bold-3-loaded':'',\n",
    "    'SecureNetflixId':'',\n",
    "    'netflix-sans-normal-3-loaded':'',\n",
    "}\n",
    "\n",
    "\n",
    "resp = requests.get(url,headers=headers,cookies=cookies)\n",
    "print(len(resp.text))\n",
    "\n",
    "soup=BeautifulSoup(resp.text,\"lxml\")\n",
    "print(soup.text)"
   ]
  },
  {
   "cell_type": "code",
   "execution_count": 27,
   "metadata": {},
   "outputs": [
    {
     "name": "stdout",
     "output_type": "stream",
     "text": [
      "285261\n",
      "Netflix Taiwan - Watch TV Shows Online, Watch Movies OnlineNetflixSign InUnlimited movies, TV shows, and more.Watch anywhere. Cancel anytime.Ready to watch? Enter your email to create or restart your membership.Email addressGET STARTEDchevronEnjoy on your TV.Watch on Smart TVs, Playstation, Xbox, Chromecast, Apple TV, Blu-ray players, and more.Download your shows to watch offline.Save your favorites easily and always have something to watch.Stranger ThingsDownloading...Watch everywhere.Stream unlimited movies and TV shows on your phone, tablet, laptop, and TV without paying more.Frequently Asked QuestionsWhat is Netflix?Netflix is a streaming service that offers a wide variety of award-winning TV shows, movies, anime, documentaries, and more on thousands of internet-connected devices.You can watch as much as you want, whenever you want without a single commercial – all for one low monthly price. There's always something new to discover and new TV shows and movies are added every week!How much does Netflix cost?Watch Netflix on your smartphone, tablet, Smart TV, laptop, or streaming device, all for one fixed monthly fee. Plans range from TWD270 to TWD390 a month. No extra costs, no contracts.Where can I watch?Watch anywhere, anytime, on an unlimited number of devices. Sign in with your Netflix account to watch instantly on the web at netflix.com from your personal computer or on any internet-connected device that offers the Netflix app, including smart TVs, smartphones, tablets, streaming media players and game consoles.You can also download your favorite shows with the iOS, Android, or Windows 10 app. Use downloads to watch while you're on the go and without an internet connection. Take Netflix with you anywhere.How do I cancel?Netflix is flexible. There are no pesky contracts and no commitments. You can easily cancel your account online in two clicks. There are no cancellation fees – start or stop your account anytime.What can I watch on Netflix?Netflix has an extensive library of feature films, documentaries, TV shows, anime, award-winning Netflix originals, and more. Watch as much as you want, anytime you want.Ready to watch? Enter your email to create or restart your membership.Email addressGET STARTEDchevronQuestions? Contact us.FAQHelp CenterAccountMedia CenterInvestor RelationsJobsWays to WatchTerms of UsePrivacyCookie PreferencesCorporate InformationContact UsSpeed TestLegal NoticesNetflix Originals中文EnglishNetflix Taiwan\n"
     ]
    }
   ],
   "source": [
    "# 沒有包含cookies\n",
    "resp2 = requests.get(url,headers=headers)\n",
    "print(len(resp2.text))\n",
    "\n",
    "soup2=BeautifulSoup(resp2.text,\"lxml\")\n",
    "print(soup2.text)\n",
    "\n",
    "\n",
    "\n"
   ]
  },
  {
   "cell_type": "code",
   "execution_count": null,
   "outputs": [],
   "source": [],
   "metadata": {
    "collapsed": false,
    "pycharm": {
     "name": "#%%\n"
    }
   }
  }
 ],
 "metadata": {
  "kernelspec": {
   "display_name": "Python 3",
   "language": "python",
   "name": "python3"
  },
  "language_info": {
   "codemirror_mode": {
    "name": "ipython",
    "version": 3
   },
   "file_extension": ".py",
   "mimetype": "text/x-python",
   "name": "python",
   "nbconvert_exporter": "python",
   "pygments_lexer": "ipython3",
   "version": "3.6.5"
  }
 },
 "nbformat": 4,
 "nbformat_minor": 2
}