{
 "cells": [
  {
   "cell_type": "markdown",
   "metadata": {
    "colab_type": "text",
    "id": "I8CoX4R7VoCd"
   },
   "source": [
    "# 反爬：代理伺服器/IP\n",
    "\n",
    "* 了解「IP 黑/白名單」的反爬蟲機制\n",
    "* 「IP 黑/白名單」反爬蟲的因應策略"
   ]
  },
  {
   "cell_type": "markdown",
   "metadata": {
    "colab_type": "text",
    "id": "n-3DZ_r5VoCe"
   },
   "source": [
    "## 作業目標\n",
    "\n",
    "* 目前程式中的 proxy_ips 是手動輸入的，請根據 https://free-proxy-list.net/ 寫一個可自動化抓取可用 Proxy 的 proxy_ips。\n",
    "\n",
    "\n"
   ]
  },
  {
   "cell_type": "code",
   "execution_count": 1,
   "metadata": {
    "colab": {},
    "colab_type": "code",
    "id": "iny-9heBVoCf"
   },
   "outputs": [],
   "source": [
    "import requests\n",
    "from bs4 import BeautifulSoup\n",
    "import random"
   ]
  },
  {
   "cell_type": "code",
   "execution_count": 2,
   "outputs": [
    {
     "name": "stdout",
     "output_type": "stream",
     "text": [
      "81.201.60.130 80 Czech Republic yes\n",
      "13.75.114.68 25222 Hong Kong yes\n",
      "203.204.200.104 80 Taiwan yes\n",
      "181.118.109.194 8080 Argentina yes\n",
      "124.41.243.22 47894 Nepal yes\n",
      "203.204.200.101 80 Taiwan yes\n",
      "35.230.21.108 80 United States yes\n",
      "103.216.51.210 8191 Cambodia yes\n",
      "47.244.186.177 4576 United States yes\n",
      "95.158.63.46 32923 Ukraine yes\n",
      "144.217.101.245 3129 Canada yes\n",
      "128.199.214.87 3128 Singapore yes\n",
      "103.28.121.58 3128 Bangladesh yes\n",
      "190.152.157.89 80 Ecuador yes\n",
      "94.244.28.246 31280 Ukraine yes\n",
      "78.30.239.58 61355 Russian Federation yes\n",
      "195.4.164.127 8080 Germany yes\n",
      "203.204.200.102 80 Taiwan yes\n",
      "202.89.65.254 42238 India yes\n",
      "187.130.139.197 8080 Mexico yes\n",
      "200.52.141.162 53281 Mexico yes\n",
      "88.99.10.253 1080 Germany yes\n",
      "67.154.191.167 37112 United States yes\n",
      "41.190.147.158 58880 Mauritius yes\n",
      "34.91.135.38 80 United States yes\n",
      "18.236.245.66 52837 United States yes\n",
      "193.41.88.58 53281 Ukraine yes\n",
      "185.21.217.8 3128 Netherlands yes\n",
      "88.99.10.252 1080 Germany yes\n",
      "91.216.66.70 32306 Russian Federation yes\n",
      "175.106.18.201 58392 Indonesia yes\n",
      "77.237.15.60 61008 Poland yes\n",
      "85.10.219.96 1080 Germany yes\n",
      "190.214.45.18 31326 Ecuador yes\n",
      "1.20.99.89 32963 Thailand yes\n",
      "164.77.129.46 58249 Chile yes\n",
      "186.42.175.138 44410 Ecuador yes\n",
      "103.111.94.28 8080 Indonesia yes\n",
      "176.110.154.59 60314 Poland yes\n",
      "194.9.83.61 8080 Kenya yes\n",
      "176.101.89.226 33470 Russian Federation yes\n",
      "186.211.182.113 54801 Brazil yes\n",
      "144.76.214.157 1080 Germany yes\n",
      "195.234.87.211 53281 Bulgaria yes\n",
      "162.251.158.207 45934 Puerto Rico yes\n",
      "188.40.183.184 1080 Germany yes\n",
      "144.76.214.154 1080 Germany yes\n",
      "85.10.219.97 1080 Germany yes\n",
      "188.40.183.189 1080 Germany yes\n",
      "188.40.183.187 1080 Germany yes\n",
      "185.114.137.14 25074 Ukraine yes\n",
      "85.10.219.101 1080 Germany yes\n",
      "59.167.0.172 34235 Australia yes\n",
      "46.218.155.194 3128 France yes\n",
      "188.40.183.185 1080 Germany yes\n",
      "170.84.71.114 35705 Brazil yes\n",
      "43.228.131.115 59874 Mongolia yes\n",
      "202.79.56.90 23500 Nepal yes\n",
      "213.174.10.58 61855 Ukraine yes\n",
      "103.36.11.161 14571 Indonesia yes\n",
      "144.76.214.155 1080 Germany yes\n",
      "181.118.167.104 80 Chile yes\n",
      "161.202.226.195 8123 Japan yes\n",
      "91.67.240.45 3128 Germany yes\n",
      "190.25.47.86 8080 Colombia yes\n",
      "88.99.10.248 1080 Germany yes\n",
      "54.38.218.209 6582 France yes\n",
      "47.57.90.124 3128 United States yes\n",
      "161.202.226.194 8123 Japan yes\n"
     ]
    }
   ],
   "source": [
    "headers={\n",
    "    'user-agent': 'Mozilla/5.0 (Macintosh; Intel Mac OS X 10_15_5) AppleWebKit/537.36 (KHTML, like Gecko) Chrome/84.0.4147.89 Safari/537.36 Edg/84.0.522.40',\n",
    "}\n",
    "\n",
    "proxy_ips = []\n",
    "\n",
    "proxy_url = \"https://free-proxy-list.net/\"\n",
    "resp = requests.get(proxy_url,headers=headers)\n",
    "soup = BeautifulSoup(resp.text,'lxml')\n",
    "elem = soup.find_all(\"tbody\")[0]\n",
    "for tr in elem:\n",
    "    ip = tr.find_all('td')[0].text\n",
    "    #print(ip)\n",
    "    port = tr.find_all('td')[1].text\n",
    "    #print(port)\n",
    "    country = tr.find_all('td')[3].text\n",
    "    #print(country)\n",
    "    http = tr.find_all('td')[6].text\n",
    "\n",
    "    if http ==\"yes\":\n",
    "        proxy_ips.append(f\"{ip}:{port}\")\n",
    "        print(ip,port,country,http)"
   ],
   "metadata": {
    "collapsed": false,
    "pycharm": {
     "name": "#%%\n"
    }
   }
  },
  {
   "cell_type": "code",
   "execution_count": null,
   "outputs": [],
   "source": [
    "print(proxy_ips)\n"
   ],
   "metadata": {
    "collapsed": false,
    "pycharm": {
     "name": "#%%\n",
     "is_executing": true
    }
   }
  },
  {
   "cell_type": "code",
   "execution_count": null,
   "metadata": {
    "colab": {},
    "colab_type": "code",
    "id": "75dIsHjiVoCi",
    "pycharm": {
     "is_executing": true
    }
   },
   "outputs": [
    {
     "name": "stdout",
     "output_type": "stream",
     "text": [
      "Use 91.216.66.70:32306\n",
      "Fail\n",
      "Use 47.57.90.124:3128\n",
      "Fail\n",
      "Use 188.40.183.185:1080\n",
      "Fail\n",
      "Use 103.111.94.28:8080\n",
      "Your IP address: 103.111.94.6\n",
      "Use 1.20.99.89:32963\n",
      "Fail\n",
      "Use 195.4.164.127:8080\n",
      "Fail\n",
      "Use 47.244.186.177:4576\n",
      "Fail\n",
      "Use 91.67.240.45:3128\n",
      "Fail\n",
      "Use 203.204.200.101:80\n",
      "Your IP address: 203.204.200.101\n",
      "Use 46.218.155.194:3128\n",
      "Fail\n",
      "Use 188.40.183.185:1080\n",
      "Fail\n",
      "Use 181.118.109.194:8080\n",
      "Fail\n",
      "Use 67.154.191.167:37112\n",
      "Fail\n",
      "Use 35.230.21.108:80\n",
      "Your IP address: 35.247.96.150\n",
      "Use 170.84.71.114:35705\n",
      "Fail\n",
      "Use 162.251.158.207:45934\n",
      "Fail\n",
      "Use 194.9.83.61:8080\n",
      "Fail\n",
      "Use 194.9.83.61:8080\n",
      "Fail\n",
      "Use 103.216.51.210:8191\n",
      "Fail\n",
      "Use 144.217.101.245:3129\n",
      "Your IP address: 144.217.101.245\n",
      "Use 188.40.183.185:1080\n",
      "Fail\n",
      "Use 170.84.71.114:35705\n",
      "Fail\n",
      "Use 103.216.51.210:8191\n",
      "Fail\n",
      "Use 175.106.18.201:58392\n",
      "Fail\n",
      "Use 91.216.66.70:32306\n",
      "Fail\n",
      "Use 128.199.214.87:3128\n",
      "Fail\n",
      "Use 103.36.11.161:14571\n",
      "Fail\n",
      "Use 190.214.45.18:31326\n",
      "Fail\n",
      "Use 185.114.137.14:25074\n",
      "Your IP address: 185.114.136.148\n",
      "Use 185.114.137.14:25074\n",
      "Your IP address: 185.114.136.148\n",
      "Use 181.118.167.104:80\n",
      "Your IP address: 181.118.167.73\n",
      "Use 185.21.217.8:3128\n",
      "Fail\n",
      "Use 203.204.200.102:80\n",
      "Your IP address: 203.204.200.102\n",
      "Use 186.211.182.113:54801\n",
      "Fail\n",
      "Use 124.41.243.22:47894\n",
      "Fail\n",
      "Use 190.25.47.86:8080\n",
      "Fail\n",
      "Use 43.228.131.115:59874\n",
      "Fail\n",
      "Use 103.111.94.28:8080\n",
      "Your IP address: 103.111.94.6\n",
      "Use 195.4.164.127:8080\n",
      "Fail\n",
      "Use 34.91.135.38:80\n",
      "Your IP address: 34.91.215.168\n",
      "Use 190.152.157.89:80\n",
      "Fail\n",
      "Use 190.152.157.89:80\n",
      "Fail\n",
      "Use 81.201.60.130:80\n",
      "Your IP address: 185.220.101.5\n",
      "Use 195.234.87.211:53281\n",
      "Fail\n",
      "Use 103.28.121.58:3128\n",
      "Fail\n",
      "Use 103.28.121.58:3128\n",
      "Fail\n",
      "Use 186.42.175.138:44410\n",
      "Fail\n",
      "Use 85.10.219.101:1080\n",
      "Fail\n",
      "Use 203.204.200.101:80\n",
      "Your IP address: 203.204.200.101\n",
      "Use 203.204.200.101:80\n",
      "Your IP address: 203.204.200.101\n",
      "Use 202.89.65.254:42238\n",
      "Your IP address: 202.89.65.254\n",
      "Use 188.40.183.185:1080\n",
      "Fail\n",
      "Use 77.237.15.60:61008\n"
     ]
    }
   ],
   "source": [
    "proxy_ips_usable =[]\n",
    "for i in range(len(proxy_ips)):\n",
    "    ip = random.choice(proxy_ips)\n",
    "    print('Use', ip)\n",
    "    try:\n",
    "        resp = requests.get('http://ip.filefab.com/index.php',headers=headers,\n",
    "                        proxies={'http': ip, 'https': ip}, timeout=3)\n",
    "        soup = BeautifulSoup(resp.text, 'lxml')\n",
    "        print(soup.find('h1', id='ipd').text.strip())\n",
    "        print(f\"this IP is usable:{ip}\")\n",
    "        proxy_ips_usable.append(ip)\n",
    "    except:\n",
    "        print(f'Fail, this ip:{ip} is not usable')\n",
    "print(proxy_ips_usable)"
   ]
  }
 ],
 "metadata": {
  "colab": {
   "name": "homework.ipynb",
   "provenance": []
  },
  "kernelspec": {
   "display_name": "Python 3",
   "language": "python",
   "name": "python3"
  },
  "language_info": {
   "codemirror_mode": {
    "name": "ipython",
    "version": 3
   },
   "file_extension": ".py",
   "mimetype": "text/x-python",
   "name": "python",
   "nbconvert_exporter": "python",
   "pygments_lexer": "ipython3",
   "version": "3.6.5"
  }
 },
 "nbformat": 4,
 "nbformat_minor": 1
}