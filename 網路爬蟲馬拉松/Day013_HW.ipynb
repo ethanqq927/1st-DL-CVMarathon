{
 "cells": [
  {
   "cell_type": "markdown",
   "metadata": {},
   "source": [
    "# PTT 網路爬蟲實作練習\n",
    "\n",
    "\n",
    "* 能夠利用 Request + BeatifulSour 撰寫爬蟲，並存放到合適的資料結構\n"
   ]
  },
  {
   "cell_type": "markdown",
   "metadata": {},
   "source": [
    "## 作業目標\n",
    "\n",
    "根據範例 ，完成以下問題：\n",
    "\n",
    "* ① 印出最新文章的「作者」「標題」「時間」\n",
    "* ② 印出第一頁所有文章的「作者」「標題」「時間」\n"
   ]
  },
  {
   "cell_type": "markdown",
   "metadata": {},
   "source": [
    "### ① 印出最新文章的「作者」「標題」「時間」"
   ]
  },
  {
   "cell_type": "code",
   "execution_count": 131,
   "metadata": {},
   "outputs": [],
   "source": [
    "# 我們發現這個時間好像不是正確的，原因是我們前面存到的時間，其實不是正確的格式\n",
    "\n",
    "# 改成 Gossiping 版，發生錯誤，因為八卦版會跳轉到一個「十八歲的同意驗證頁面」導致錯誤。\n",
    "# 參考圖片下載時的解法，加上 cookies 繞過驗證（後面課程會再進行補充）\n",
    "\n",
    "import requests\n",
    "from bs4 import BeautifulSoup\n",
    "from datetime import datetime\n",
    "import pandas as pd\n",
    "\n",
    "\n",
    "url = 'https://www.ptt.cc/bbs/NBA/index.html'\n",
    "resp = requests.get(url, cookies={'over18': '1'})\n",
    "\n",
    "soup = BeautifulSoup(resp.text, \"lxml\")\n",
    "\n",
    "post_links = []\n",
    "post_title_list = []\n",
    "post_author_list = []\n",
    "post_time_list = []\n",
    "\n",
    "for d in soup.select(\".title\"):\n",
    "    #print(d.select('a')[0].get('href'))\n",
    "\n",
    "    try:\n",
    "        post = {}\n",
    "        post['標題'] = d.text.replace('\\t', '').replace('\\n', '')\n",
    "\n",
    "        r = BeautifulSoup(requests.get('https://www.ptt.cc'+d.select('a')[0].get('href'), cookies={'over18': '1'}).text, \"lxml\")\n",
    "        #print('https://www.ptt.cc'+d.select('a')[0].get('href'))\n",
    "        post_title_list.append(r.find_all(class_='article-meta-value')[2].text)\n",
    "        #print(r.find_all(class_='article-meta-value')[2].text)\n",
    "        post_author_list.append(r.find_all(class_='article-meta-value')[0].text)\n",
    "        #print(r.find_all(class_='article-meta-value')[0].text)\n",
    "        time = r.find_all(class_='article-meta-value')[-1].text\n",
    "        post_time_list.append(datetime.strptime(time, \"%a %b %d %H:%M:%S %Y\"))\n",
    "\n",
    "    except:\n",
    "        continue"
   ]
  },
  {
   "cell_type": "code",
   "execution_count": 132,
   "outputs": [
    {
     "name": "stdout",
     "output_type": "stream",
     "text": [
      "最新文章的作者為 :rich830502 (力取),\n",
      "標題為 :[討論] 10年前的今天 The Decision,\n",
      "時間為 :2020-07-09 23:11:20\n"
     ]
    }
   ],
   "source": [
    "df = pd.DataFrame()\n",
    "df[\"作者\"] = post_author_list\n",
    "df[\"標題\"] = post_title_list\n",
    "df[\"時間\"] = post_time_list\n",
    "\n",
    "index = df.sort_values(\"時間\")[-1:].index[0]\n",
    "print(\"最新文章的作者為 :{},\\n標題為 :{},\\n時間為 :{}\".format(post_author_list[index],post_title_list[index],post_time_list[index]))"
   ],
   "metadata": {
    "collapsed": false,
    "pycharm": {
     "name": "#%%\n"
    }
   }
  },
  {
   "cell_type": "markdown",
   "metadata": {},
   "source": [
    "### ② 印出第一頁所有文章的「作者」「標題」「時間」"
   ]
  },
  {
   "cell_type": "code",
   "execution_count": 133,
   "metadata": {},
   "outputs": [
    {
     "data": {
      "text/plain": "          author                                title   date\n0         Wall62            [情報] Jamal Crawford 跟籃網簽約   7/09\n1         pneumo       [情報] Kawhi Leonard因家庭因素沒隨隊去奧蘭多   7/09\n2    VeryGoodBoy             [新聞] 為了季後賽拚了！馬刺波總將隨隊前往奧蘭   7/09\n3         pneumo            [花邊] Josh Hart炫耀他房間裡的電玩設備   7/09\n4    NCTUPARSONS          [情報] Michael Beasley準備與籃網簽約   7/09\n5         pneumo      Re: [情報] Michael Beasley準備與籃網簽約   7/09\n6              -               (本文已被刪除) [stark841117]   7/09\n7           ckny        [專欄] VC:Curry兄弟從小訓練狂，命中註定進NBA   7/09\n8         ahshao               [新聞] 7人無法打復賽 籃網急簽40歲後衛   7/09\n9        nO25948                    [討論] 怎麼都沒有球隊考慮林書豪   7/09\n10    thnlkj0665         [花邊] 76人中鋒不擔心隔離生活 舉旅台經驗替自己背書   7/09\n11  sampsonlu919             [新聞] 當嘴綠師弟 雷霆亞歷山大簽約C球鞋品牌   7/09\n12  sampsonlu919             [花邊] 述新冠肺炎衝擊運動賽事 保羅籌拍紀錄片   7/09\n13    sodistrues                 [花邊] 復賽先當觀眾 南斯看好快艇奪冠   7/09\n14    rich830502            [討論] 10年前的今天 The Decision   7/09\n15         Vedan                          [公告] 板規v6.8   5/24\n16  qazwsx879345                        [公告] 版主上任相關事項  10/25\n17       Acetoxy  [情報] SEASON Schedule 賽程 March 19–20   3/02\n18         Vedan                [公告] 第一次被退文，可在三天後刪除退文   3/09\n19         Vedan                       [公告] 板務說明 (發錢)   4/03",
      "text/html": "<div>\n<style scoped>\n    .dataframe tbody tr th:only-of-type {\n        vertical-align: middle;\n    }\n\n    .dataframe tbody tr th {\n        vertical-align: top;\n    }\n\n    .dataframe thead th {\n        text-align: right;\n    }\n</style>\n<table border=\"1\" class=\"dataframe\">\n  <thead>\n    <tr style=\"text-align: right;\">\n      <th></th>\n      <th>author</th>\n      <th>title</th>\n      <th>date</th>\n    </tr>\n  </thead>\n  <tbody>\n    <tr>\n      <th>0</th>\n      <td>Wall62</td>\n      <td>[情報] Jamal Crawford 跟籃網簽約</td>\n      <td>7/09</td>\n    </tr>\n    <tr>\n      <th>1</th>\n      <td>pneumo</td>\n      <td>[情報] Kawhi Leonard因家庭因素沒隨隊去奧蘭多</td>\n      <td>7/09</td>\n    </tr>\n    <tr>\n      <th>2</th>\n      <td>VeryGoodBoy</td>\n      <td>[新聞] 為了季後賽拚了！馬刺波總將隨隊前往奧蘭</td>\n      <td>7/09</td>\n    </tr>\n    <tr>\n      <th>3</th>\n      <td>pneumo</td>\n      <td>[花邊] Josh Hart炫耀他房間裡的電玩設備</td>\n      <td>7/09</td>\n    </tr>\n    <tr>\n      <th>4</th>\n      <td>NCTUPARSONS</td>\n      <td>[情報] Michael Beasley準備與籃網簽約</td>\n      <td>7/09</td>\n    </tr>\n    <tr>\n      <th>5</th>\n      <td>pneumo</td>\n      <td>Re: [情報] Michael Beasley準備與籃網簽約</td>\n      <td>7/09</td>\n    </tr>\n    <tr>\n      <th>6</th>\n      <td>-</td>\n      <td>(本文已被刪除) [stark841117]</td>\n      <td>7/09</td>\n    </tr>\n    <tr>\n      <th>7</th>\n      <td>ckny</td>\n      <td>[專欄] VC:Curry兄弟從小訓練狂，命中註定進NBA</td>\n      <td>7/09</td>\n    </tr>\n    <tr>\n      <th>8</th>\n      <td>ahshao</td>\n      <td>[新聞] 7人無法打復賽 籃網急簽40歲後衛</td>\n      <td>7/09</td>\n    </tr>\n    <tr>\n      <th>9</th>\n      <td>nO25948</td>\n      <td>[討論] 怎麼都沒有球隊考慮林書豪</td>\n      <td>7/09</td>\n    </tr>\n    <tr>\n      <th>10</th>\n      <td>thnlkj0665</td>\n      <td>[花邊] 76人中鋒不擔心隔離生活 舉旅台經驗替自己背書</td>\n      <td>7/09</td>\n    </tr>\n    <tr>\n      <th>11</th>\n      <td>sampsonlu919</td>\n      <td>[新聞] 當嘴綠師弟 雷霆亞歷山大簽約C球鞋品牌</td>\n      <td>7/09</td>\n    </tr>\n    <tr>\n      <th>12</th>\n      <td>sampsonlu919</td>\n      <td>[花邊] 述新冠肺炎衝擊運動賽事 保羅籌拍紀錄片</td>\n      <td>7/09</td>\n    </tr>\n    <tr>\n      <th>13</th>\n      <td>sodistrues</td>\n      <td>[花邊] 復賽先當觀眾 南斯看好快艇奪冠</td>\n      <td>7/09</td>\n    </tr>\n    <tr>\n      <th>14</th>\n      <td>rich830502</td>\n      <td>[討論] 10年前的今天 The Decision</td>\n      <td>7/09</td>\n    </tr>\n    <tr>\n      <th>15</th>\n      <td>Vedan</td>\n      <td>[公告] 板規v6.8</td>\n      <td>5/24</td>\n    </tr>\n    <tr>\n      <th>16</th>\n      <td>qazwsx879345</td>\n      <td>[公告] 版主上任相關事項</td>\n      <td>10/25</td>\n    </tr>\n    <tr>\n      <th>17</th>\n      <td>Acetoxy</td>\n      <td>[情報] SEASON Schedule 賽程 March 19–20</td>\n      <td>3/02</td>\n    </tr>\n    <tr>\n      <th>18</th>\n      <td>Vedan</td>\n      <td>[公告] 第一次被退文，可在三天後刪除退文</td>\n      <td>3/09</td>\n    </tr>\n    <tr>\n      <th>19</th>\n      <td>Vedan</td>\n      <td>[公告] 板務說明 (發錢)</td>\n      <td>4/03</td>\n    </tr>\n  </tbody>\n</table>\n</div>"
     },
     "execution_count": 133,
     "metadata": {},
     "output_type": "execute_result"
    }
   ],
   "source": [
    "author_list=[]\n",
    "title_list=[]\n",
    "date_list=[]\n",
    "\n",
    "url = 'https://www.ptt.cc/bbs/NBA/index.html'\n",
    "resp = requests.get(url)\n",
    "#print(resp.text)\n",
    "soup = BeautifulSoup(resp.text, \"lxml\")\n",
    "rnet = soup.select(\".r-ent\")\n",
    "for r in rnet:\n",
    "    for m in r.select(\".meta\"):\n",
    "        author_list.append(m.select(\".author\")[0].text)\n",
    "        title_list.append(r.select(\".title\")[0].text.strip())\n",
    "        date_list.append(m.select(\".date\")[0].text)\n",
    "\n",
    "\n",
    "df = pd.DataFrame()\n",
    "df[\"author\"]=author_list\n",
    "df[\"title\"]=title_list\n",
    "df[\"date\"]= date_list\n",
    "\n",
    "df"
   ]
  },
  {
   "cell_type": "markdown",
   "metadata": {},
   "source": [
    "### ③ 試著爬爬看其他版的文章"
   ]
  },
  {
   "cell_type": "code",
   "execution_count": 143,
   "metadata": {},
   "outputs": [
    {
     "data": {
      "text/plain": "         author                               title   date\n0      songgood                       [討論] 香港大橋能撑多久   7/09\n1    mikiup0321      Re: [討論] 叫政府發現金 事後算GDP貢獻 是不是陷阱   7/09\n2      songgood                     [討論] 時力放話文化很嚴重嗎   7/09\n3      IronCube                     Re: [轉錄] 黃郁芬 FB   7/09\n4       l81311i         Re: [討論] 該啟動彰化雲林合併成第七直轄市了吧！   7/09\n5   dodo222kimo     Re: [新聞] 2024選總統!柯P首度明確表態:照這樣準備   7/09\n6    MagicMoney  Fw: [新聞] 反送中到港版國安法 柯文哲評:台灣人看香港心驚膽顫   7/09\n7   takuminauki          [新聞] 台綜院估經濟成長率1.55% 劉泰英示警股   7/09\n8       vogue38             Re: [轉錄] 邱顯智：夜深了，來說說心裡話   7/10\n9    victoryman            [新聞] 促高雄公民投票電子化 吳益政將聲請釋憲   7/10\n10       KSA142            Re: [討論] 時力跟民眾黨，哪個內鬥較嚴重?   7/10\n11     kero2377                [討論] 對賭文開獎專區 請版友遵守承諾   1/12\n12      Rrrxddd          [公告] 政治黑特板板規_20200523_V6.0   5/23\n13     kero2377                       [公告] 關於轉文至八卦版   6/11\n14      Rrrxddd                [公告] Q_Q 發文 分類 心得40字   6/07",
      "text/html": "<div>\n<style scoped>\n    .dataframe tbody tr th:only-of-type {\n        vertical-align: middle;\n    }\n\n    .dataframe tbody tr th {\n        vertical-align: top;\n    }\n\n    .dataframe thead th {\n        text-align: right;\n    }\n</style>\n<table border=\"1\" class=\"dataframe\">\n  <thead>\n    <tr style=\"text-align: right;\">\n      <th></th>\n      <th>author</th>\n      <th>title</th>\n      <th>date</th>\n    </tr>\n  </thead>\n  <tbody>\n    <tr>\n      <th>0</th>\n      <td>songgood</td>\n      <td>[討論] 香港大橋能撑多久</td>\n      <td>7/09</td>\n    </tr>\n    <tr>\n      <th>1</th>\n      <td>mikiup0321</td>\n      <td>Re: [討論] 叫政府發現金 事後算GDP貢獻 是不是陷阱</td>\n      <td>7/09</td>\n    </tr>\n    <tr>\n      <th>2</th>\n      <td>songgood</td>\n      <td>[討論] 時力放話文化很嚴重嗎</td>\n      <td>7/09</td>\n    </tr>\n    <tr>\n      <th>3</th>\n      <td>IronCube</td>\n      <td>Re: [轉錄] 黃郁芬 FB</td>\n      <td>7/09</td>\n    </tr>\n    <tr>\n      <th>4</th>\n      <td>l81311i</td>\n      <td>Re: [討論] 該啟動彰化雲林合併成第七直轄市了吧！</td>\n      <td>7/09</td>\n    </tr>\n    <tr>\n      <th>5</th>\n      <td>dodo222kimo</td>\n      <td>Re: [新聞] 2024選總統!柯P首度明確表態:照這樣準備</td>\n      <td>7/09</td>\n    </tr>\n    <tr>\n      <th>6</th>\n      <td>MagicMoney</td>\n      <td>Fw: [新聞] 反送中到港版國安法 柯文哲評:台灣人看香港心驚膽顫</td>\n      <td>7/09</td>\n    </tr>\n    <tr>\n      <th>7</th>\n      <td>takuminauki</td>\n      <td>[新聞] 台綜院估經濟成長率1.55% 劉泰英示警股</td>\n      <td>7/09</td>\n    </tr>\n    <tr>\n      <th>8</th>\n      <td>vogue38</td>\n      <td>Re: [轉錄] 邱顯智：夜深了，來說說心裡話</td>\n      <td>7/10</td>\n    </tr>\n    <tr>\n      <th>9</th>\n      <td>victoryman</td>\n      <td>[新聞] 促高雄公民投票電子化 吳益政將聲請釋憲</td>\n      <td>7/10</td>\n    </tr>\n    <tr>\n      <th>10</th>\n      <td>KSA142</td>\n      <td>Re: [討論] 時力跟民眾黨，哪個內鬥較嚴重?</td>\n      <td>7/10</td>\n    </tr>\n    <tr>\n      <th>11</th>\n      <td>kero2377</td>\n      <td>[討論] 對賭文開獎專區 請版友遵守承諾</td>\n      <td>1/12</td>\n    </tr>\n    <tr>\n      <th>12</th>\n      <td>Rrrxddd</td>\n      <td>[公告] 政治黑特板板規_20200523_V6.0</td>\n      <td>5/23</td>\n    </tr>\n    <tr>\n      <th>13</th>\n      <td>kero2377</td>\n      <td>[公告] 關於轉文至八卦版</td>\n      <td>6/11</td>\n    </tr>\n    <tr>\n      <th>14</th>\n      <td>Rrrxddd</td>\n      <td>[公告] Q_Q 發文 分類 心得40字</td>\n      <td>6/07</td>\n    </tr>\n  </tbody>\n</table>\n</div>"
     },
     "execution_count": 143,
     "metadata": {},
     "output_type": "execute_result"
    }
   ],
   "source": [
    "import requests\n",
    "from bs4 import BeautifulSoup\n",
    "from datetime import datetime\n",
    "import pandas as pd\n",
    "\n",
    "author_list=[]\n",
    "title_list=[]\n",
    "date_list=[]\n",
    "\n",
    "url = 'https://www.ptt.cc/bbs/HatePolitics/index.html'\n",
    "resp = requests.get(url,cookies={'over18': '1'})\n",
    "#print(resp.text)\n",
    "soup = BeautifulSoup(resp.text, \"lxml\")\n",
    "rnet = soup.select(\".r-ent\")\n",
    "for r in rnet:\n",
    "    for m in r.select(\".meta\"):\n",
    "        author_list.append(m.select(\".author\")[0].text)\n",
    "        title_list.append(r.select(\".title\")[0].text.strip())\n",
    "        date_list.append(m.select(\".date\")[0].text)\n",
    "\n",
    "\n",
    "df = pd.DataFrame()\n",
    "df[\"author\"]=author_list\n",
    "df[\"title\"]=title_list\n",
    "df[\"date\"]= date_list\n",
    "\n",
    "df"
   ]
  }
 ],
 "metadata": {
  "kernelspec": {
   "display_name": "Python 3",
   "language": "python",
   "name": "python3"
  },
  "language_info": {
   "codemirror_mode": {
    "name": "ipython",
    "version": 3
   },
   "file_extension": ".py",
   "mimetype": "text/x-python",
   "name": "python",
   "nbconvert_exporter": "python",
   "pygments_lexer": "ipython3",
   "version": "3.6.5"
  }
 },
 "nbformat": 4,
 "nbformat_minor": 2
}