{
 "cells": [
  {
   "cell_type": "markdown",
   "metadata": {},
   "source": [
    "# 作業\n",
    "\n",
    "以正確的副檔名下載網頁中的圖片\n",
    "範例網頁:https://www.ptt.cc/bbs/Beauty/M.1556291059.A.75A.html\n",
    "\n",
    "Note：因為 PTT 會詢問「是否滿 18 歲」，這邊可以用 cookies 繞過\n",
    "\n",
    "`requests.get(URL, cookies={'over18': '1'}`\n"
   ]
  },
  {
   "cell_type": "code",
   "execution_count": 2,
   "metadata": {},
   "outputs": [],
   "source": [
    "import requests\n",
    "import os\n",
    "from bs4 import BeautifulSoup\n",
    "import fleep\n",
    "from urllib.request import urlretrieve"
   ]
  },
  {
   "cell_type": "code",
   "execution_count": 4,
   "metadata": {},
   "outputs": [],
   "source": [
    "url = 'https://www.ptt.cc/bbs/Beauty/M.1556291059.A.75A.html'\n",
    "resp = requests.get(url, cookies={'over18': '1'})\n",
    "soup = BeautifulSoup(resp.text)"
   ]
  },
  {
   "cell_type": "code",
   "execution_count": 11,
   "metadata": {},
   "outputs": [
    {
     "name": "stdout",
     "output_type": "stream",
     "text": [
      "[]\n"
     ]
    }
   ],
   "source": [
    "# 決定要儲存的資料夾\n",
    "output_dir = './downloads'\n",
    "\n",
    "# 假如資料夾不存在就新增一個資料夾\n",
    "if not os.path.exists(output_dir):\n",
    "    os.makedirs(output_dir)"
   ]
  },
  {
   "cell_type": "code",
   "execution_count": 12,
   "outputs": [
    {
     "name": "stdout",
     "output_type": "stream",
     "text": [
      "[<a href=\"/bbs/\" id=\"logo\">批踢踢實業坊</a>, <a class=\"board\" href=\"/bbs/Beauty/index.html\"><span class=\"board-label\">看板 </span>Beauty</a>, <a class=\"right small\" href=\"/about.html\">關於我們</a>, <a class=\"right small\" href=\"/contact.html\">聯絡資訊</a>, <a class=\"board\" href=\"/bbs/Beauty/index.html\">返回看板</a>, <a href=\"https://imgur.com/Cgb5oo1\" rel=\"nofollow\" target=\"_blank\">https://imgur.com/Cgb5oo1</a>, <a href=\"//imgur.com/Cgb5oo1\"></a>, <a href=\"https://imgur.com/MgjHY4f\" rel=\"nofollow\" target=\"_blank\">https://imgur.com/MgjHY4f</a>, <a href=\"//imgur.com/MgjHY4f\"></a>, <a href=\"https://imgur.com/yeoRtAs\" rel=\"nofollow\" target=\"_blank\">https://imgur.com/yeoRtAs</a>, <a href=\"//imgur.com/yeoRtAs\"></a>, <a href=\"https://imgur.com/wsauNEW\" rel=\"nofollow\" target=\"_blank\">https://imgur.com/wsauNEW</a>, <a href=\"//imgur.com/wsauNEW\"></a>, <a href=\"https://imgur.com/IjiETcs\" rel=\"nofollow\" target=\"_blank\">https://imgur.com/IjiETcs</a>, <a href=\"//imgur.com/IjiETcs\"></a>, <a href=\"https://www.ptt.cc/bbs/Beauty/M.1556291059.A.75A.html\" rel=\"nofollow\" target=\"_blank\">https://www.ptt.cc/bbs/Beauty/M.1556291059.A.75A.html</a>]\n"
     ]
    }
   ],
   "source": [
    "# 定位所有圖片的 tag\n",
    "image_tags = soup.find_all('a')\n",
    "print(image_tags)"
   ],
   "metadata": {
    "collapsed": false,
    "pycharm": {
     "name": "#%%\n"
    }
   }
  },
  {
   "cell_type": "code",
   "execution_count": 48,
   "outputs": [
    {
     "name": "stdout",
     "output_type": "stream",
     "text": [
      "[<a href=\"/bbs/\" id=\"logo\">批踢踢實業坊</a>, <a class=\"board\" href=\"/bbs/Beauty/index.html\"><span class=\"board-label\">看板 </span>Beauty</a>, <a class=\"right small\" href=\"/about.html\">關於我們</a>, <a class=\"right small\" href=\"/contact.html\">聯絡資訊</a>, <a class=\"board\" href=\"/bbs/Beauty/index.html\">返回看板</a>, <a href=\"https://imgur.com/Cgb5oo1\" rel=\"nofollow\" target=\"_blank\">https://imgur.com/Cgb5oo1</a>, <a href=\"//imgur.com/Cgb5oo1\"></a>, <a href=\"https://imgur.com/MgjHY4f\" rel=\"nofollow\" target=\"_blank\">https://imgur.com/MgjHY4f</a>, <a href=\"//imgur.com/MgjHY4f\"></a>, <a href=\"https://imgur.com/yeoRtAs\" rel=\"nofollow\" target=\"_blank\">https://imgur.com/yeoRtAs</a>, <a href=\"//imgur.com/yeoRtAs\"></a>, <a href=\"https://imgur.com/wsauNEW\" rel=\"nofollow\" target=\"_blank\">https://imgur.com/wsauNEW</a>, <a href=\"//imgur.com/wsauNEW\"></a>, <a href=\"https://imgur.com/IjiETcs\" rel=\"nofollow\" target=\"_blank\">https://imgur.com/IjiETcs</a>, <a href=\"//imgur.com/IjiETcs\"></a>, <a href=\"https://www.ptt.cc/bbs/Beauty/M.1556291059.A.75A.html\" rel=\"nofollow\" target=\"_blank\">https://www.ptt.cc/bbs/Beauty/M.1556291059.A.75A.html</a>]\n",
      "['批踢踢實業坊.jpg', '看板 Beauty.jpg', '關於我們.jpg', '聯絡資訊.jpg', '返回看板.jpg', 'https://imgur.com/Cgb5oo1.jpg', '.jpg', 'https://imgur.com/MgjHY4f.jpg', '.jpg', 'https://imgur.com/yeoRtAs.jpg', '.jpg', 'https://imgur.com/wsauNEW.jpg', '.jpg', 'https://imgur.com/IjiETcs.jpg', '.jpg', 'https://www.ptt.cc/bbs/Beauty/M.1556291059.A.75A.html.jpg']\n"
     ]
    }
   ],
   "source": [
    "elem = soup.select(\"a\")\n",
    "print(elem)\n",
    "img_list = [f\"{e.text}.jpg\" for e in elem]"
   ],
   "metadata": {
    "collapsed": false,
    "pycharm": {
     "name": "#%%\n"
    }
   }
  },
  {
   "cell_type": "code",
   "execution_count": 81,
   "outputs": [
    {
     "name": "stdout",
     "output_type": "stream",
     "text": [
      "['jpg']\n",
      "['jpg']\n",
      "['jpg']\n",
      "['jpg']\n",
      "['jpg']\n"
     ]
    }
   ],
   "source": [
    "def download_file(url):\n",
    "    local_filename = url.split('/')[-1]\n",
    "    with requests.get(url, stream=True) as r:\n",
    "        with open(f\"./downloads/{local_filename}\",'wb') as f:\n",
    "            for chunk in r:\n",
    "                f.write(chunk)\n",
    "\n",
    "\n",
    "for img in img_list:\n",
    "    try:\n",
    "        resp=requests.get(img,stream=True)\n",
    "        resp.raise_for_status()\n",
    "        info = fleep.get(resp.raw.read(128))\n",
    "        print(info.extension,end=\"\\n\")\n",
    "        download_file(img)\n",
    "    except:\n",
    "        pass\n",
    "\n",
    "\n"
   ],
   "metadata": {
    "collapsed": false,
    "pycharm": {
     "name": "#%%\n"
    }
   }
  },
  {
   "cell_type": "code",
   "execution_count": null,
   "outputs": [],
   "source": [
    "    # 取得所有圖片在第三方服務的 id\n",
    "\n",
    "    # 組合圖片而非網站的網址\n",
    "\n",
    "    # 對圖片送出請求"
   ],
   "metadata": {
    "collapsed": false,
    "pycharm": {
     "name": "#%%\n"
    }
   }
  }
 ],
 "metadata": {
  "kernelspec": {
   "display_name": "Python 3",
   "language": "python",
   "name": "python3"
  },
  "language_info": {
   "codemirror_mode": {
    "name": "ipython",
    "version": 3
   },
   "file_extension": ".py",
   "mimetype": "text/x-python",
   "name": "python",
   "nbconvert_exporter": "python",
   "pygments_lexer": "ipython3",
   "version": "3.6.9"
  }
 },
 "nbformat": 4,
 "nbformat_minor": 2
}